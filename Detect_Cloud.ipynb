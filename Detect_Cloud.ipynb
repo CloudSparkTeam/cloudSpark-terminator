{
  "nbformat": 4,
  "nbformat_minor": 0,
  "metadata": {
    "colab": {
      "provenance": [],
      "gpuType": "T4",
      "authorship_tag": "ABX9TyMaupKt86Hg5mJqt8N7jEay",
      "include_colab_link": true
    },
    "kernelspec": {
      "name": "python3",
      "display_name": "Python 3"
    },
    "language_info": {
      "name": "python"
    },
    "accelerator": "GPU"
  },
  "cells": [
    {
      "cell_type": "markdown",
      "metadata": {
        "id": "view-in-github",
        "colab_type": "text"
      },
      "source": [
        "<a href=\"https://colab.research.google.com/github/CloudSparkTeam/cloudSpark-terminator/blob/cds-101-treinamento-ia/Detect_Cloud.ipynb\" target=\"_parent\"><img src=\"https://colab.research.google.com/assets/colab-badge.svg\" alt=\"Open In Colab\"/></a>"
      ]
    },
    {
      "cell_type": "code",
      "execution_count": 1,
      "metadata": {
        "id": "jJA7CwfiVeNC",
        "colab": {
          "base_uri": "https://localhost:8080/"
        },
        "outputId": "08ce8391-1a03-43bf-d8d1-30cb46b26141"
      },
      "outputs": [
        {
          "output_type": "stream",
          "name": "stdout",
          "text": [
            "Requirement already satisfied: dataset-tools in /usr/local/lib/python3.10/dist-packages (0.1.4)\n",
            "Requirement already satisfied: supervisely>=6.72.28 in /usr/local/lib/python3.10/dist-packages (from dataset-tools) (6.73.206)\n",
            "Requirement already satisfied: numpy<2.0.0,>=1.19 in /usr/local/lib/python3.10/dist-packages (from dataset-tools) (1.26.4)\n",
            "Requirement already satisfied: requests<3.0.0,>=2.27.1 in /usr/local/lib/python3.10/dist-packages (from dataset-tools) (2.32.3)\n",
            "Requirement already satisfied: requests-toolbelt<1.0.0,>=0.9.1 in /usr/local/lib/python3.10/dist-packages (from dataset-tools) (0.10.1)\n",
            "Requirement already satisfied: tqdm<5.0.0,>=4.62.3 in /usr/local/lib/python3.10/dist-packages (from dataset-tools) (4.66.5)\n",
            "Requirement already satisfied: pandas<=1.5.2,>=1.1.3 in /usr/local/lib/python3.10/dist-packages (from dataset-tools) (1.5.2)\n",
            "Requirement already satisfied: matplotlib<4.0.0,>=3.3.2 in /usr/local/lib/python3.10/dist-packages (from dataset-tools) (3.7.1)\n",
            "Requirement already satisfied: scikit-image<1.0.0,>=0.17.1 in /usr/local/lib/python3.10/dist-packages (from dataset-tools) (0.24.0)\n",
            "Requirement already satisfied: dataframe-image<1.0.0,>=0.1.11 in /usr/local/lib/python3.10/dist-packages (from dataset-tools) (0.2.5)\n",
            "Requirement already satisfied: inflect>=6.0.0 in /usr/local/lib/python3.10/dist-packages (from dataset-tools) (7.4.0)\n",
            "Requirement already satisfied: gdown>=4.7.1 in /usr/local/lib/python3.10/dist-packages (from dataset-tools) (5.2.0)\n",
            "Requirement already satisfied: urllib3==1.26.15 in /usr/local/lib/python3.10/dist-packages (from dataset-tools) (1.26.15)\n",
            "Requirement already satisfied: geojson>=3.0.0 in /usr/local/lib/python3.10/dist-packages (from dataset-tools) (3.1.0)\n",
            "Requirement already satisfied: titlecase>=2.4.1 in /usr/local/lib/python3.10/dist-packages (from dataset-tools) (2.4.1)\n",
            "Requirement already satisfied: pycocotools>=2.0.0 in /usr/local/lib/python3.10/dist-packages (from dataset-tools) (2.0.8)\n",
            "Requirement already satisfied: memory-profiler==0.61.0 in /usr/local/lib/python3.10/dist-packages (from dataset-tools) (0.61.0)\n",
            "Requirement already satisfied: Pympler==1.0.1 in /usr/local/lib/python3.10/dist-packages (from dataset-tools) (1.0.1)\n",
            "Requirement already satisfied: xmltodict==0.13.0 in /usr/local/lib/python3.10/dist-packages (from dataset-tools) (0.13.0)\n",
            "Requirement already satisfied: imagesize==1.4.1 in /usr/local/lib/python3.10/dist-packages (from dataset-tools) (1.4.1)\n",
            "Requirement already satisfied: psutil in /usr/local/lib/python3.10/dist-packages (from memory-profiler==0.61.0->dataset-tools) (5.9.5)\n",
            "Requirement already satisfied: nbconvert>=5 in /usr/local/lib/python3.10/dist-packages (from dataframe-image<1.0.0,>=0.1.11->dataset-tools) (6.5.4)\n",
            "Requirement already satisfied: aiohttp>=3.10.2 in /usr/local/lib/python3.10/dist-packages (from dataframe-image<1.0.0,>=0.1.11->dataset-tools) (3.10.8)\n",
            "Requirement already satisfied: pillow in /usr/local/lib/python3.10/dist-packages (from dataframe-image<1.0.0,>=0.1.11->dataset-tools) (10.2.0)\n",
            "Requirement already satisfied: packaging in /usr/local/lib/python3.10/dist-packages (from dataframe-image<1.0.0,>=0.1.11->dataset-tools) (24.1)\n",
            "Requirement already satisfied: mistune in /usr/local/lib/python3.10/dist-packages (from dataframe-image<1.0.0,>=0.1.11->dataset-tools) (0.8.4)\n",
            "Requirement already satisfied: lxml in /usr/local/lib/python3.10/dist-packages (from dataframe-image<1.0.0,>=0.1.11->dataset-tools) (4.9.4)\n",
            "Requirement already satisfied: beautifulsoup4 in /usr/local/lib/python3.10/dist-packages (from dataframe-image<1.0.0,>=0.1.11->dataset-tools) (4.12.3)\n",
            "Requirement already satisfied: cssutils in /usr/local/lib/python3.10/dist-packages (from dataframe-image<1.0.0,>=0.1.11->dataset-tools) (2.11.1)\n",
            "Requirement already satisfied: html2image in /usr/local/lib/python3.10/dist-packages (from dataframe-image<1.0.0,>=0.1.11->dataset-tools) (2.0.5)\n",
            "Requirement already satisfied: cssselect in /usr/local/lib/python3.10/dist-packages (from dataframe-image<1.0.0,>=0.1.11->dataset-tools) (1.2.0)\n",
            "Requirement already satisfied: filelock in /usr/local/lib/python3.10/dist-packages (from gdown>=4.7.1->dataset-tools) (3.16.1)\n",
            "Requirement already satisfied: more-itertools>=8.5.0 in /usr/local/lib/python3.10/dist-packages (from inflect>=6.0.0->dataset-tools) (10.5.0)\n",
            "Requirement already satisfied: typeguard>=4.0.1 in /usr/local/lib/python3.10/dist-packages (from inflect>=6.0.0->dataset-tools) (4.3.0)\n",
            "Requirement already satisfied: contourpy>=1.0.1 in /usr/local/lib/python3.10/dist-packages (from matplotlib<4.0.0,>=3.3.2->dataset-tools) (1.3.0)\n",
            "Requirement already satisfied: cycler>=0.10 in /usr/local/lib/python3.10/dist-packages (from matplotlib<4.0.0,>=3.3.2->dataset-tools) (0.12.1)\n",
            "Requirement already satisfied: fonttools>=4.22.0 in /usr/local/lib/python3.10/dist-packages (from matplotlib<4.0.0,>=3.3.2->dataset-tools) (4.54.1)\n",
            "Requirement already satisfied: kiwisolver>=1.0.1 in /usr/local/lib/python3.10/dist-packages (from matplotlib<4.0.0,>=3.3.2->dataset-tools) (1.4.7)\n",
            "Requirement already satisfied: pyparsing>=2.3.1 in /usr/local/lib/python3.10/dist-packages (from matplotlib<4.0.0,>=3.3.2->dataset-tools) (3.1.4)\n",
            "Requirement already satisfied: python-dateutil>=2.7 in /usr/local/lib/python3.10/dist-packages (from matplotlib<4.0.0,>=3.3.2->dataset-tools) (2.8.2)\n",
            "Requirement already satisfied: pytz>=2020.1 in /usr/local/lib/python3.10/dist-packages (from pandas<=1.5.2,>=1.1.3->dataset-tools) (2024.2)\n",
            "Requirement already satisfied: charset-normalizer<4,>=2 in /usr/local/lib/python3.10/dist-packages (from requests<3.0.0,>=2.27.1->dataset-tools) (3.3.2)\n",
            "Requirement already satisfied: idna<4,>=2.5 in /usr/local/lib/python3.10/dist-packages (from requests<3.0.0,>=2.27.1->dataset-tools) (3.10)\n",
            "Requirement already satisfied: certifi>=2017.4.17 in /usr/local/lib/python3.10/dist-packages (from requests<3.0.0,>=2.27.1->dataset-tools) (2024.8.30)\n",
            "Requirement already satisfied: scipy>=1.9 in /usr/local/lib/python3.10/dist-packages (from scikit-image<1.0.0,>=0.17.1->dataset-tools) (1.13.1)\n",
            "Requirement already satisfied: networkx>=2.8 in /usr/local/lib/python3.10/dist-packages (from scikit-image<1.0.0,>=0.17.1->dataset-tools) (3.3)\n",
            "Requirement already satisfied: imageio>=2.33 in /usr/local/lib/python3.10/dist-packages (from scikit-image<1.0.0,>=0.17.1->dataset-tools) (2.35.1)\n",
            "Requirement already satisfied: tifffile>=2022.8.12 in /usr/local/lib/python3.10/dist-packages (from scikit-image<1.0.0,>=0.17.1->dataset-tools) (2024.9.20)\n",
            "Requirement already satisfied: lazy-loader>=0.4 in /usr/local/lib/python3.10/dist-packages (from scikit-image<1.0.0,>=0.17.1->dataset-tools) (0.4)\n",
            "Requirement already satisfied: cachetools<5.0.0,>=4.2.3 in /usr/local/lib/python3.10/dist-packages (from supervisely>=6.72.28->dataset-tools) (4.2.4)\n",
            "Requirement already satisfied: opencv-python<5.0.0.0,>=4.5.5.62 in /usr/local/lib/python3.10/dist-packages (from supervisely>=6.72.28->dataset-tools) (4.10.0.84)\n",
            "Requirement already satisfied: PTable<1.0.0,>=0.9.2 in /usr/local/lib/python3.10/dist-packages (from supervisely>=6.72.28->dataset-tools) (0.9.2)\n",
            "Requirement already satisfied: protobuf<=3.20.3,>=3.14.0 in /usr/local/lib/python3.10/dist-packages (from supervisely>=6.72.28->dataset-tools) (3.20.3)\n",
            "Requirement already satisfied: python-json-logger<3.0.0,>=0.1.11 in /usr/local/lib/python3.10/dist-packages (from supervisely>=6.72.28->dataset-tools) (2.0.7)\n",
            "Requirement already satisfied: Shapely<=2.0.2,>=1.7.1 in /usr/local/lib/python3.10/dist-packages (from supervisely>=6.72.28->dataset-tools) (2.0.2)\n",
            "Requirement already satisfied: bidict<1.0.0,>=0.21.2 in /usr/local/lib/python3.10/dist-packages (from supervisely>=6.72.28->dataset-tools) (0.23.1)\n",
            "Requirement already satisfied: varname<1.0.0,>=0.8.1 in /usr/local/lib/python3.10/dist-packages (from supervisely>=6.72.28->dataset-tools) (0.13.4)\n",
            "Requirement already satisfied: python-dotenv<=1.0.0,>=0.19.2 in /usr/local/lib/python3.10/dist-packages (from supervisely>=6.72.28->dataset-tools) (1.0.0)\n",
            "Requirement already satisfied: pynrrd<1.0.0,>=0.4.2 in /usr/local/lib/python3.10/dist-packages (from supervisely>=6.72.28->dataset-tools) (0.4.3)\n",
            "Requirement already satisfied: SimpleITK<3.0.0.0,>=2.1.1.2 in /usr/local/lib/python3.10/dist-packages (from supervisely>=6.72.28->dataset-tools) (2.4.0)\n",
            "Requirement already satisfied: pydicom<3.0.0,>=2.3.0 in /usr/local/lib/python3.10/dist-packages (from supervisely>=6.72.28->dataset-tools) (2.4.4)\n",
            "Requirement already satisfied: stringcase<2.0.0,>=1.2.0 in /usr/local/lib/python3.10/dist-packages (from supervisely>=6.72.28->dataset-tools) (1.2.0)\n",
            "Requirement already satisfied: python-magic<1.0.0,>=0.4.25 in /usr/local/lib/python3.10/dist-packages (from supervisely>=6.72.28->dataset-tools) (0.4.27)\n",
            "Requirement already satisfied: trimesh<4.0.0,>=3.11.2 in /usr/local/lib/python3.10/dist-packages (from supervisely>=6.72.28->dataset-tools) (3.23.5)\n",
            "Requirement already satisfied: uvicorn<1.0.0,>=0.18.2 in /usr/local/lib/python3.10/dist-packages (from uvicorn[standard]<1.0.0,>=0.18.2->supervisely>=6.72.28->dataset-tools) (0.31.1)\n",
            "Requirement already satisfied: pydantic<=2.8.2,>=1.7.4 in /usr/local/lib/python3.10/dist-packages (from supervisely>=6.72.28->dataset-tools) (2.8.2)\n",
            "Requirement already satisfied: anyio<=4.2.0,>=3.7.1 in /usr/local/lib/python3.10/dist-packages (from supervisely>=6.72.28->dataset-tools) (3.7.1)\n",
            "Requirement already satisfied: fastapi<=0.109.0,>=0.79.0 in /usr/local/lib/python3.10/dist-packages (from supervisely>=6.72.28->dataset-tools) (0.109.0)\n",
            "Requirement already satisfied: websockets<11.0,>=10.3 in /usr/local/lib/python3.10/dist-packages (from supervisely>=6.72.28->dataset-tools) (10.4)\n",
            "Requirement already satisfied: jinja2<4.0.0,>=3.0.3 in /usr/local/lib/python3.10/dist-packages (from supervisely>=6.72.28->dataset-tools) (3.1.4)\n",
            "Requirement already satisfied: jsonpatch<2.0,>=1.32 in /usr/local/lib/python3.10/dist-packages (from supervisely>=6.72.28->dataset-tools) (1.33)\n",
            "Requirement already satisfied: MarkupSafe<3.0.0,>=2.1.1 in /usr/local/lib/python3.10/dist-packages (from supervisely>=6.72.28->dataset-tools) (2.1.5)\n",
            "Requirement already satisfied: arel<1.0.0,>=0.2.0 in /usr/local/lib/python3.10/dist-packages (from supervisely>=6.72.28->dataset-tools) (0.3.0)\n",
            "Requirement already satisfied: async-asgi-testclient in /usr/local/lib/python3.10/dist-packages (from supervisely>=6.72.28->dataset-tools) (1.4.11)\n",
            "Requirement already satisfied: PyYAML in /usr/local/lib/python3.10/dist-packages (from supervisely>=6.72.28->dataset-tools) (6.0.2)\n",
            "Requirement already satisfied: distinctipy in /usr/local/lib/python3.10/dist-packages (from supervisely>=6.72.28->dataset-tools) (1.3.4)\n",
            "Requirement already satisfied: numerize in /usr/local/lib/python3.10/dist-packages (from supervisely>=6.72.28->dataset-tools) (0.12)\n",
            "Requirement already satisfied: ffmpeg-python==0.2.0 in /usr/local/lib/python3.10/dist-packages (from supervisely>=6.72.28->dataset-tools) (0.2.0)\n",
            "Requirement already satisfied: python-multipart==0.0.5 in /usr/local/lib/python3.10/dist-packages (from supervisely>=6.72.28->dataset-tools) (0.0.5)\n",
            "Requirement already satisfied: GitPython in /usr/local/lib/python3.10/dist-packages (from supervisely>=6.72.28->dataset-tools) (3.1.43)\n",
            "Requirement already satisfied: giturlparse in /usr/local/lib/python3.10/dist-packages (from supervisely>=6.72.28->dataset-tools) (0.12.0)\n",
            "Requirement already satisfied: rich in /usr/local/lib/python3.10/dist-packages (from supervisely>=6.72.28->dataset-tools) (13.9.1)\n",
            "Requirement already satisfied: click in /usr/local/lib/python3.10/dist-packages (from supervisely>=6.72.28->dataset-tools) (8.1.7)\n",
            "Requirement already satisfied: imutils==0.5.4 in /usr/local/lib/python3.10/dist-packages (from supervisely>=6.72.28->dataset-tools) (0.5.4)\n",
            "Requirement already satisfied: cacheout==0.14.1 in /usr/local/lib/python3.10/dist-packages (from supervisely>=6.72.28->dataset-tools) (0.14.1)\n",
            "Requirement already satisfied: jsonschema<=4.20.0,>=2.6.0 in /usr/local/lib/python3.10/dist-packages (from supervisely>=6.72.28->dataset-tools) (4.20.0)\n",
            "Requirement already satisfied: pyjwt<3.0.0,>=2.1.0 in /usr/local/lib/python3.10/dist-packages (from supervisely>=6.72.28->dataset-tools) (2.9.0)\n",
            "Requirement already satisfied: zstd in /usr/local/lib/python3.10/dist-packages (from supervisely>=6.72.28->dataset-tools) (1.5.5.1)\n",
            "Requirement already satisfied: future in /usr/local/lib/python3.10/dist-packages (from ffmpeg-python==0.2.0->supervisely>=6.72.28->dataset-tools) (1.0.0)\n",
            "Requirement already satisfied: six>=1.4.0 in /usr/local/lib/python3.10/dist-packages (from python-multipart==0.0.5->supervisely>=6.72.28->dataset-tools) (1.16.0)\n",
            "Requirement already satisfied: aiohappyeyeballs>=2.3.0 in /usr/local/lib/python3.10/dist-packages (from aiohttp>=3.10.2->dataframe-image<1.0.0,>=0.1.11->dataset-tools) (2.4.3)\n",
            "Requirement already satisfied: aiosignal>=1.1.2 in /usr/local/lib/python3.10/dist-packages (from aiohttp>=3.10.2->dataframe-image<1.0.0,>=0.1.11->dataset-tools) (1.3.1)\n",
            "Requirement already satisfied: attrs>=17.3.0 in /usr/local/lib/python3.10/dist-packages (from aiohttp>=3.10.2->dataframe-image<1.0.0,>=0.1.11->dataset-tools) (24.2.0)\n",
            "Requirement already satisfied: frozenlist>=1.1.1 in /usr/local/lib/python3.10/dist-packages (from aiohttp>=3.10.2->dataframe-image<1.0.0,>=0.1.11->dataset-tools) (1.4.1)\n",
            "Requirement already satisfied: multidict<7.0,>=4.5 in /usr/local/lib/python3.10/dist-packages (from aiohttp>=3.10.2->dataframe-image<1.0.0,>=0.1.11->dataset-tools) (6.1.0)\n",
            "Requirement already satisfied: yarl<2.0,>=1.12.0 in /usr/local/lib/python3.10/dist-packages (from aiohttp>=3.10.2->dataframe-image<1.0.0,>=0.1.11->dataset-tools) (1.13.1)\n",
            "Requirement already satisfied: async-timeout<5.0,>=4.0 in /usr/local/lib/python3.10/dist-packages (from aiohttp>=3.10.2->dataframe-image<1.0.0,>=0.1.11->dataset-tools) (4.0.3)\n",
            "Requirement already satisfied: sniffio>=1.1 in /usr/local/lib/python3.10/dist-packages (from anyio<=4.2.0,>=3.7.1->supervisely>=6.72.28->dataset-tools) (1.3.1)\n",
            "Requirement already satisfied: exceptiongroup in /usr/local/lib/python3.10/dist-packages (from anyio<=4.2.0,>=3.7.1->supervisely>=6.72.28->dataset-tools) (1.2.2)\n",
            "Requirement already satisfied: starlette==0.* in /usr/local/lib/python3.10/dist-packages (from arel<1.0.0,>=0.2.0->supervisely>=6.72.28->dataset-tools) (0.35.1)\n",
            "Requirement already satisfied: watchfiles==0.* in /usr/local/lib/python3.10/dist-packages (from arel<1.0.0,>=0.2.0->supervisely>=6.72.28->dataset-tools) (0.24.0)\n",
            "Requirement already satisfied: typing-extensions>=4.8.0 in /usr/local/lib/python3.10/dist-packages (from fastapi<=0.109.0,>=0.79.0->supervisely>=6.72.28->dataset-tools) (4.12.2)\n",
            "Requirement already satisfied: jsonpointer>=1.9 in /usr/local/lib/python3.10/dist-packages (from jsonpatch<2.0,>=1.32->supervisely>=6.72.28->dataset-tools) (3.0.0)\n",
            "Requirement already satisfied: jsonschema-specifications>=2023.03.6 in /usr/local/lib/python3.10/dist-packages (from jsonschema<=4.20.0,>=2.6.0->supervisely>=6.72.28->dataset-tools) (2023.12.1)\n",
            "Requirement already satisfied: referencing>=0.28.4 in /usr/local/lib/python3.10/dist-packages (from jsonschema<=4.20.0,>=2.6.0->supervisely>=6.72.28->dataset-tools) (0.35.1)\n",
            "Requirement already satisfied: rpds-py>=0.7.1 in /usr/local/lib/python3.10/dist-packages (from jsonschema<=4.20.0,>=2.6.0->supervisely>=6.72.28->dataset-tools) (0.20.0)\n",
            "Requirement already satisfied: bleach in /usr/local/lib/python3.10/dist-packages (from nbconvert>=5->dataframe-image<1.0.0,>=0.1.11->dataset-tools) (6.1.0)\n",
            "Requirement already satisfied: defusedxml in /usr/local/lib/python3.10/dist-packages (from nbconvert>=5->dataframe-image<1.0.0,>=0.1.11->dataset-tools) (0.7.1)\n",
            "Requirement already satisfied: entrypoints>=0.2.2 in /usr/local/lib/python3.10/dist-packages (from nbconvert>=5->dataframe-image<1.0.0,>=0.1.11->dataset-tools) (0.4)\n",
            "Requirement already satisfied: jupyter-core>=4.7 in /usr/local/lib/python3.10/dist-packages (from nbconvert>=5->dataframe-image<1.0.0,>=0.1.11->dataset-tools) (5.7.2)\n",
            "Requirement already satisfied: jupyterlab-pygments in /usr/local/lib/python3.10/dist-packages (from nbconvert>=5->dataframe-image<1.0.0,>=0.1.11->dataset-tools) (0.3.0)\n",
            "Requirement already satisfied: nbclient>=0.5.0 in /usr/local/lib/python3.10/dist-packages (from nbconvert>=5->dataframe-image<1.0.0,>=0.1.11->dataset-tools) (0.10.0)\n",
            "Requirement already satisfied: nbformat>=5.1 in /usr/local/lib/python3.10/dist-packages (from nbconvert>=5->dataframe-image<1.0.0,>=0.1.11->dataset-tools) (5.10.4)\n",
            "Requirement already satisfied: pandocfilters>=1.4.1 in /usr/local/lib/python3.10/dist-packages (from nbconvert>=5->dataframe-image<1.0.0,>=0.1.11->dataset-tools) (1.5.1)\n",
            "Requirement already satisfied: pygments>=2.4.1 in /usr/local/lib/python3.10/dist-packages (from nbconvert>=5->dataframe-image<1.0.0,>=0.1.11->dataset-tools) (2.18.0)\n",
            "Requirement already satisfied: tinycss2 in /usr/local/lib/python3.10/dist-packages (from nbconvert>=5->dataframe-image<1.0.0,>=0.1.11->dataset-tools) (1.3.0)\n",
            "Requirement already satisfied: traitlets>=5.0 in /usr/local/lib/python3.10/dist-packages (from nbconvert>=5->dataframe-image<1.0.0,>=0.1.11->dataset-tools) (5.7.1)\n",
            "Requirement already satisfied: annotated-types>=0.4.0 in /usr/local/lib/python3.10/dist-packages (from pydantic<=2.8.2,>=1.7.4->supervisely>=6.72.28->dataset-tools) (0.7.0)\n",
            "Requirement already satisfied: pydantic-core==2.20.1 in /usr/local/lib/python3.10/dist-packages (from pydantic<=2.8.2,>=1.7.4->supervisely>=6.72.28->dataset-tools) (2.20.1)\n",
            "Requirement already satisfied: h11>=0.8 in /usr/local/lib/python3.10/dist-packages (from uvicorn<1.0.0,>=0.18.2->uvicorn[standard]<1.0.0,>=0.18.2->supervisely>=6.72.28->dataset-tools) (0.14.0)\n",
            "Requirement already satisfied: httptools>=0.5.0 in /usr/local/lib/python3.10/dist-packages (from uvicorn[standard]<1.0.0,>=0.18.2->supervisely>=6.72.28->dataset-tools) (0.6.1)\n",
            "Requirement already satisfied: uvloop!=0.15.0,!=0.15.1,>=0.14.0 in /usr/local/lib/python3.10/dist-packages (from uvicorn[standard]<1.0.0,>=0.18.2->supervisely>=6.72.28->dataset-tools) (0.20.0)\n",
            "Requirement already satisfied: executing<3.0,>=2.0 in /usr/local/lib/python3.10/dist-packages (from varname<1.0.0,>=0.8.1->supervisely>=6.72.28->dataset-tools) (2.1.0)\n",
            "Requirement already satisfied: soupsieve>1.2 in /usr/local/lib/python3.10/dist-packages (from beautifulsoup4->dataframe-image<1.0.0,>=0.1.11->dataset-tools) (2.6)\n",
            "Requirement already satisfied: gitdb<5,>=4.0.1 in /usr/local/lib/python3.10/dist-packages (from GitPython->supervisely>=6.72.28->dataset-tools) (4.0.11)\n",
            "Requirement already satisfied: websocket-client==1.* in /usr/local/lib/python3.10/dist-packages (from html2image->dataframe-image<1.0.0,>=0.1.11->dataset-tools) (1.8.0)\n",
            "Requirement already satisfied: PySocks!=1.5.7,>=1.5.6 in /usr/local/lib/python3.10/dist-packages (from requests[socks]->gdown>=4.7.1->dataset-tools) (1.7.1)\n",
            "Requirement already satisfied: markdown-it-py>=2.2.0 in /usr/local/lib/python3.10/dist-packages (from rich->supervisely>=6.72.28->dataset-tools) (3.0.0)\n",
            "Requirement already satisfied: smmap<6,>=3.0.1 in /usr/local/lib/python3.10/dist-packages (from gitdb<5,>=4.0.1->GitPython->supervisely>=6.72.28->dataset-tools) (5.0.1)\n",
            "Requirement already satisfied: platformdirs>=2.5 in /usr/local/lib/python3.10/dist-packages (from jupyter-core>=4.7->nbconvert>=5->dataframe-image<1.0.0,>=0.1.11->dataset-tools) (4.3.6)\n",
            "Requirement already satisfied: mdurl~=0.1 in /usr/local/lib/python3.10/dist-packages (from markdown-it-py>=2.2.0->rich->supervisely>=6.72.28->dataset-tools) (0.1.2)\n",
            "Requirement already satisfied: jupyter-client>=6.1.12 in /usr/local/lib/python3.10/dist-packages (from nbclient>=0.5.0->nbconvert>=5->dataframe-image<1.0.0,>=0.1.11->dataset-tools) (6.1.12)\n",
            "Requirement already satisfied: fastjsonschema>=2.15 in /usr/local/lib/python3.10/dist-packages (from nbformat>=5.1->nbconvert>=5->dataframe-image<1.0.0,>=0.1.11->dataset-tools) (2.20.0)\n",
            "Requirement already satisfied: webencodings in /usr/local/lib/python3.10/dist-packages (from bleach->nbconvert>=5->dataframe-image<1.0.0,>=0.1.11->dataset-tools) (0.5.1)\n",
            "Requirement already satisfied: pyzmq>=13 in /usr/local/lib/python3.10/dist-packages (from jupyter-client>=6.1.12->nbclient>=0.5.0->nbconvert>=5->dataframe-image<1.0.0,>=0.1.11->dataset-tools) (24.0.1)\n",
            "Requirement already satisfied: tornado>=4.1 in /usr/local/lib/python3.10/dist-packages (from jupyter-client>=6.1.12->nbclient>=0.5.0->nbconvert>=5->dataframe-image<1.0.0,>=0.1.11->dataset-tools) (6.3.3)\n"
          ]
        }
      ],
      "source": [
        "!pip install --upgrade dataset-tools"
      ]
    },
    {
      "cell_type": "code",
      "source": [
        "import dataset_tools as dtools\n",
        "\n",
        "dtools.download(dataset='38-Cloud', dst_dir='/content/dataset-ninja/')"
      ],
      "metadata": {
        "id": "FK1Hl1PbW1G5",
        "colab": {
          "base_uri": "https://localhost:8080/",
          "height": 70
        },
        "outputId": "74c22de5-3386-4bc6-904c-962747f802b7"
      },
      "execution_count": 2,
      "outputs": [
        {
          "output_type": "stream",
          "name": "stderr",
          "text": [
            "Downloading '38-Cloud': 100%|██████████| 12.1G/12.1G [03:18<00:00, 65.3MB/s]\n",
            "Unpacking '38-cloud.tar': 100%|██████████| 211224/211224 [33:11<00:00, 106.08file/s] \n"
          ]
        },
        {
          "output_type": "execute_result",
          "data": {
            "text/plain": [
              "'/content/dataset-ninja/38-cloud'"
            ],
            "application/vnd.google.colaboratory.intrinsic+json": {
              "type": "string"
            }
          },
          "metadata": {},
          "execution_count": 2
        }
      ]
    }
  ]
}