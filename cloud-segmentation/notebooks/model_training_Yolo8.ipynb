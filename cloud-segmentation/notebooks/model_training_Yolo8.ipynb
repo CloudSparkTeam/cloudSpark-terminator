{
 "cells": [
  {
   "cell_type": "code",
   "execution_count": 4,
   "metadata": {},
   "outputs": [],
   "source": [
    "from ultralytics import YOLO"
   ]
  },
  {
   "cell_type": "code",
   "execution_count": null,
   "metadata": {},
   "outputs": [],
   "source": [
    "# Carregar o modelo YOLOv8 (pode ser 'yolov8n.yaml', 'yolov8s.yaml', etc.)\n",
    "model = YOLO('yolov8n.yaml')  # YOLOv8n é o modelo \"nano\", rápido e leve; você pode escolher outro"
   ]
  },
  {
   "cell_type": "code",
   "execution_count": null,
   "metadata": {},
   "outputs": [],
   "source": [
    "# Treinar o modelo\n",
    "model.train(\n",
    "    data='../config/yolov8_config.yaml',  # Caminho para o arquivo de configuração de dados\n",
    "    epochs=100,          # Número de épocas de treinamento\n",
    "    patience=10,\n",
    "    imgsz=1024,          # Tamanho da imagem\n",
    "    workers=8,\n",
    "    resume=False,\n",
    "    single_cls=False,\n",
    "    batch=-1,            # Tamanho do batch (ajuste conforme sua memória GPU)\n",
    "    project='../runs/train',  # Diretório de saída dos resultados\n",
    "    name='cloud-detection',  # Nome da execução\n",
    "    save=True,           # Salvar os melhores pesos do modelo\n",
    "    lr0=0.001,           # Reduzir a taxa de aprendizado\n",
    "    augment=True,        # Usar data augmentation\n",
    "    box=5.0,  # Controle da precisão das caixas delimitadoras\n",
    "    cls=0.5,  # Controle da precisão de classificação (se houver várias classes)\n",
    "    dfl=1.0,   # Controle da precisão de distribuição focalizada\n",
    "    val=True\n",
    ")\n"
   ]
  }
 ],
 "metadata": {
  "kernelspec": {
   "display_name": "venv",
   "language": "python",
   "name": "python3"
  },
  "language_info": {
   "codemirror_mode": {
    "name": "ipython",
    "version": 3
   },
   "file_extension": ".py",
   "mimetype": "text/x-python",
   "name": "python",
   "nbconvert_exporter": "python",
   "pygments_lexer": "ipython3",
   "version": "3.7.9"
  }
 },
 "nbformat": 4,
 "nbformat_minor": 2
}
