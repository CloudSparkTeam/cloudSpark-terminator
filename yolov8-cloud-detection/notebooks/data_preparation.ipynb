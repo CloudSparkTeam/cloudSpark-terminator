{
 "cells": [
  {
   "cell_type": "code",
   "execution_count": 5,
   "metadata": {},
   "outputs": [],
   "source": [
    "from roboflow import Roboflow\n",
    "import os\n",
    "import shutil "
   ]
  },
  {
   "cell_type": "code",
   "execution_count": null,
   "metadata": {},
   "outputs": [],
   "source": [
    "# Inicialize a API do Roboflow com sua chave\n",
    "rf = Roboflow(api_key=\"KQEdkoBrZB3iNhBNZDyx\")\n",
    "\n",
    "# Carregue o projeto e a versão do conjunto de dados\n",
    "project = rf.workspace(\"menna\").project(\"mm-fhtnq\")\n",
    "version = project.version(16)\n",
    "\n",
    "# Defina o diretório de destino para salvar o conjunto de dados\n",
    "dest_dir = \"..\\data\\processed\"\n",
    "\n",
    "# Crie o diretório, se não existir\n",
    "os.makedirs(dest_dir, exist_ok=True)"
   ]
  },
  {
   "cell_type": "code",
   "execution_count": null,
   "metadata": {},
   "outputs": [],
   "source": [
    "# Baixe o conjunto de dados e extraia para o diretório especificado\n",
    "dataset = version.download(\"yolov8\")\n",
    "\n",
    "# Verifica o diretório de download associado ao dataset\n",
    "source_dir = dataset.location\n",
    "print(\"Diretório de download:\", source_dir)\n",
    "\n",
    "# Verifique outros atributos que possam ser úteis\n",
    "print(\"Info do Dataset:\", dataset.__dict__)\n"
   ]
  },
  {
   "cell_type": "code",
   "execution_count": null,
   "metadata": {},
   "outputs": [],
   "source": [
    "# Mover arquivos do diretório de download para o diretório de destino\n",
    "for root, dirs, files in os.walk(source_dir):\n",
    "    # Itera sobre cada arquivo no diretório de download\n",
    "    for file in files:\n",
    "        # Caminho completo do arquivo de origem\n",
    "        source_file = os.path.join(root, file)\n",
    "        \n",
    "        # Caminho relativo dentro do diretório de destino\n",
    "        relative_path = os.path.relpath(root, source_dir)\n",
    "        \n",
    "        # Caminho completo do diretório de destino\n",
    "        target_dir = os.path.join(dest_dir, relative_path)\n",
    "        \n",
    "        # Cria o diretório de destino se ele não existir\n",
    "        os.makedirs(target_dir, exist_ok=True)\n",
    "        \n",
    "        # Caminho completo do arquivo de destino\n",
    "        target_file = os.path.join(target_dir, file)\n",
    "        \n",
    "        # Move o arquivo para o diretório de destino\n",
    "        shutil.move(source_file, target_file)\n",
    "\n",
    "print(f\"Conjunto de dados movido para {dest_dir}.\")"
   ]
  }
 ],
 "metadata": {
  "kernelspec": {
   "display_name": "Python 3",
   "language": "python",
   "name": "python3"
  },
  "language_info": {
   "codemirror_mode": {
    "name": "ipython",
    "version": 3
   },
   "file_extension": ".py",
   "mimetype": "text/x-python",
   "name": "python",
   "nbconvert_exporter": "python",
   "pygments_lexer": "ipython3",
   "version": "3.12.4"
  }
 },
 "nbformat": 4,
 "nbformat_minor": 2
}
